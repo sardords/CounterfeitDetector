{
 "cells": [
  {
   "cell_type": "code",
   "execution_count": null,
   "metadata": {},
   "outputs": [],
   "source": [
    "from keras.applications.resnet import ResNet50,preprocess_input\n",
    "from keras.preprocessing.image import ImageDataGenerator\n",
    "from keras.preprocessing.image import *\n",
    "from keras.layers import Dense,Activation,Flatten,Dropout\n",
    "from keras.models import Sequential,Model,load_model\n",
    "from keras import optimizers\n",
    "from keras.callbacks import ModelCheckpoint,EarlyStopping\n",
    "import numpy as npand \n",
    "import matplotlib.pyplot as plt\n",
    "import tensorflow\n",
    "from tensorflow import keras\n",
    "from keras.utils import image_utils"
   ]
  },
  {
   "cell_type": "code",
   "execution_count": null,
   "metadata": {},
   "outputs": [],
   "source": [
    "height=400\n",
    "width=400\n",
    "base_model=ResNet50(weights='imagenet',include_top=False,input_shape=(height,width,3))"
   ]
  },
  {
   "cell_type": "code",
   "execution_count": null,
   "metadata": {},
   "outputs": [],
   "source": [
    "train_dir=\"data/train_img\"\n",
    "test_dir=\"data/test_img\"\n",
    "\n",
    "batch_size=8\n",
    "\n",
    "train_datagen=ImageDataGenerator(preprocessing_function=preprocess_input,rotation_range=90,horizontal_flip=True,vertical_flip=True)\n",
    "train_generator=train_datagen.flow_from_directory(train_dir,target_size=(height,width),batch_size=batch_size)\n",
    "\n",
    "\n",
    "validation_datagen=ImageDataGenerator(preprocessing_function=preprocess_input,rotation_range=90,horizontal_flip=True,vertical_flip=True)\n",
    "validation_generator=validation_datagen.flow_from_directory(test_dir,target_size=(height,width),batch_size=batch_size)"
   ]
  },
  {
   "cell_type": "code",
   "execution_count": null,
   "metadata": {},
   "outputs": [],
   "source": [
    "def build_finetune_model(base_model, dropout, fc_layers, num_classes):\n",
    "\n",
    "    for layer in base_model.layers:\n",
    "        layer.trainable = False\n",
    "\n",
    "    x = base_model.output\n",
    "    x = Flatten()(x)\n",
    "\n",
    "    for fc in fc_layers:\n",
    "        x = Dense(fc, activation='relu')(x)\n",
    "        x = Dropout(dropout)(x)\n",
    "\n",
    "    predictions = Dense(num_classes, activation='softmax')(x)\n",
    "    finetune_model = Model(inputs=base_model.input, outputs=predictions)\n",
    "    return finetune_model\n",
    "\n",
    "\n",
    "class_list = ['genuine', 'counterfit']\n",
    "FC_Layers = [1024, 1024]\n",
    "dropout = 0.5\n",
    "finetune_model = build_finetune_model(\n",
    "    base_model, dropout=dropout, fc_layers=FC_Layers, num_classes=len(class_list))\n"
   ]
  },
  {
   "cell_type": "code",
   "execution_count": null,
   "metadata": {},
   "outputs": [],
   "source": [
    "num_epochs=100\n",
    "num_train_images=134"
   ]
  },
  {
   "cell_type": "code",
   "execution_count": null,
   "metadata": {},
   "outputs": [],
   "source": [
    "checkpoint = ModelCheckpoint(\n",
    "    \"model.h5\",\n",
    "    monitor=\"val_acc\",\n",
    "    verbose=1,\n",
    "    save_best_only=True,\n",
    "    save_weights_only=False,\n",
    "    mode=\"auto\",\n",
    "    period=1,\n",
    ")\n",
    "early = EarlyStopping(\n",
    "    monitor=\"val_acc\", min_delta=0, patience=40, verbose=1, mode=\"auto\"\n",
    ")\n",
    "\n",
    "\n",
    "finetune_model.compile(\n",
    "    loss=\"categorical_crossentropy\",\n",
    "    optimizer=optimizers.SGD(lr=0.000001, momentum=0.9),\n",
    "    metrics=[\"accuracy\"],\n",
    ")\n",
    "\n",
    "# train\n",
    "history = finetune_model.fit_generator(\n",
    "    generator=train_generator,\n",
    "    steps_per_epoch=num_train_images // batch_size,\n",
    "    epochs=num_epochs,\n",
    "    validation_data=validation_generator,\n",
    "    validation_steps=1,\n",
    "    callbacks=[checkpoint, early],\n",
    ")\n",
    "\n",
    "# save\n",
    "# finetune_model.save_weights(\"model\\\\model.h5\")\n"
   ]
  },
  {
   "cell_type": "code",
   "execution_count": null,
   "metadata": {},
   "outputs": [],
   "source": [
    "finetune_model.save(\"model\\\\model.h5\")"
   ]
  },
  {
   "cell_type": "code",
   "execution_count": null,
   "metadata": {},
   "outputs": [],
   "source": [
    "# If model is already trained\n",
    "model = keras.models.load_model(\n",
    "        \"model\\\\model.h5\"\n",
    "    )"
   ]
  }
 ],
 "metadata": {
  "kernelspec": {
   "display_name": "Python 3.10.1 64-bit",
   "language": "python",
   "name": "python3"
  },
  "language_info": {
   "codemirror_mode": {
    "name": "ipython",
    "version": 3
   },
   "file_extension": ".py",
   "mimetype": "text/x-python",
   "name": "python",
   "nbconvert_exporter": "python",
   "pygments_lexer": "ipython3",
   "version": "3.10.1"
  },
  "orig_nbformat": 4,
  "vscode": {
   "interpreter": {
    "hash": "ddc3811cd0ad85aa4fbf44dad9386132b760ef9f1b3473127e81d5ff01e50bfb"
   }
  }
 },
 "nbformat": 4,
 "nbformat_minor": 2
}
